{
 "cells": [
  {
   "cell_type": "code",
   "execution_count": 0,
   "metadata": {
    "application/vnd.databricks.v1+cell": {
     "cellMetadata": {
      "byteLimit": 10485760,
      "rowLimit": 1000
     },
     "inputWidgets": {},
     "nuid": "13b6ec03-fb4d-499b-8e5a-19507984b11e",
     "showTitle": false,
     "tableResultSettingsMap": {},
     "title": ""
    }
   },
   "outputs": [],
   "source": [
    "FROM (FROM event_log_pipeline_6104268e_0813_44d8_9583_723c8197d899 \n",
    "|> WHERE event_type = 'flow_progress'\n",
    "|> SELECT *, parse_json(details) as details_parsed)\n",
    ",LATERAL variant_explode(details_parsed) as flow_progress\n",
    "|> SELECT *\n",
    "  ,flow_progress.value:data_quality as data_quality\n",
    "  ,flow_progress.value:metrics as metrics\n",
    "  ,flow_progress.value:status::string as status\n",
    "  ,flow_progress.value:data_quality.dropped_records::numeric as dropped_records\n",
    "  ,flow_progress.value:data_quality.expectations as expectations\n",
    "  ,flow_progress.value:metrics.num_ouput_records::numeric as num_output_records\n"
   ]
  }
 ],
 "metadata": {
  "application/vnd.databricks.v1+notebook": {
   "computePreferences": null,
   "dashboards": [],
   "environmentMetadata": null,
   "inputWidgetPreferences": null,
   "language": "sql",
   "notebookMetadata": {
    "sqlQueryOptions": {
     "applyAutoLimit": true,
     "catalog": "mgiglia",
     "schema": "synthea_pipeline"
    }
   },
   "notebookName": "Data Quality.dbquery.ipynb",
   "widgets": {}
  },
  "language_info": {
   "name": "sql"
  }
 },
 "nbformat": 4,
 "nbformat_minor": 0
}
