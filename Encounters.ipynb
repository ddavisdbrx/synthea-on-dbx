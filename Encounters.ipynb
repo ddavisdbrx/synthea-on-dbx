{
 "cells": [
  {
   "cell_type": "code",
   "execution_count": 0,
   "metadata": {
    "application/vnd.databricks.v1+cell": {
     "cellMetadata": {
      "byteLimit": 2048000,
      "rowLimit": 10000
     },
     "inputWidgets": {},
     "nuid": "d9c1081c-93d4-40ac-a6a8-b631b049a50a",
     "showTitle": false,
     "tableResultSettingsMap": {},
     "title": ""
    }
   },
   "outputs": [],
   "source": [
    "DECLARE OR REPLACE VARIABLE catalog_name STRING DEFAULT \"main\";\n",
    "DECLARE OR REPLACE VARIABLE schema_name STRING DEFAULT \"synthea\";\n",
    "DECLARE OR REPLACE VARIABLE full_refresh BOOLEAN DEFAULT false;\n",
    "DECLARE OR REPLACE VARIABLE table_name STRING DEFAULT \"encounters\";"
   ]
  },
  {
   "cell_type": "code",
   "execution_count": 0,
   "metadata": {
    "application/vnd.databricks.v1+cell": {
     "cellMetadata": {
      "byteLimit": 2048000,
      "rowLimit": 10000
     },
     "inputWidgets": {},
     "nuid": "7b1c1275-d204-4c8b-ae25-8f75bf0137c1",
     "showTitle": false,
     "tableResultSettingsMap": {},
     "title": ""
    }
   },
   "outputs": [],
   "source": [
    "SET VARIABLE catalog_name = :catalog_name; \n",
    "SET VARIABLE schema_name = :schema_name;\n",
    "SET VARIABLE full_refresh = CASE WHEN :full_refresh = 'true' THEN true ELSE false END;  \n",
    "SET VARIABLE table_name = :table_name; "
   ]
  },
  {
   "cell_type": "code",
   "execution_count": 0,
   "metadata": {
    "application/vnd.databricks.v1+cell": {
     "cellMetadata": {
      "byteLimit": 2048000,
      "rowLimit": 10000
     },
     "inputWidgets": {},
     "nuid": "a49d7e9f-a5f5-4037-b728-b6c48f412e54",
     "showTitle": false,
     "tableResultSettingsMap": {},
     "title": ""
    }
   },
   "outputs": [],
   "source": [
    "select catalog_name, schema_name, full_refresh, table_name;"
   ]
  },
  {
   "cell_type": "code",
   "execution_count": 0,
   "metadata": {
    "application/vnd.databricks.v1+cell": {
     "cellMetadata": {
      "byteLimit": 2048000,
      "rowLimit": 10000
     },
     "inputWidgets": {},
     "nuid": "7f02b307-0ed8-4e26-8844-eb22aab4c2af",
     "showTitle": false,
     "tableResultSettingsMap": {},
     "title": ""
    }
   },
   "outputs": [],
   "source": [
    "USE IDENTIFIER(catalog_name || \".\" || schema_name);"
   ]
  },
  {
   "cell_type": "code",
   "execution_count": 0,
   "metadata": {
    "application/vnd.databricks.v1+cell": {
     "cellMetadata": {
      "byteLimit": 2048000,
      "rowLimit": 10000
     },
     "inputWidgets": {},
     "nuid": "006b042a-fc1f-4e8a-a141-4d2fd191d79e",
     "showTitle": false,
     "tableResultSettingsMap": {},
     "title": ""
    }
   },
   "outputs": [],
   "source": [
    "SELECT current_catalog(), current_schema();"
   ]
  },
  {
   "cell_type": "code",
   "execution_count": 0,
   "metadata": {
    "application/vnd.databricks.v1+cell": {
     "cellMetadata": {
      "byteLimit": 2048000,
      "rowLimit": 10000
     },
     "inputWidgets": {},
     "nuid": "b4d818e0-e336-4b97-be47-426e902696d0",
     "showTitle": false,
     "tableResultSettingsMap": {},
     "title": ""
    }
   },
   "outputs": [],
   "source": [
    "DECLARE OR REPLACE VARIABLE full_refresh_stmnt STRING; \n",
    "\n",
    "SET VARIABLE full_refresh_stmnt = CASE \n",
    "  WHEN full_refresh = true THEN \"DROP TABLE IF EXISTS \" || table_name || \";\"\n",
    "  ELSE \"SELECT 'Performing Standard Refresh of \" || table_name || \".' AS message;\" \n",
    "END;\n",
    "\n",
    "SELECT full_refresh_stmnt;"
   ]
  },
  {
   "cell_type": "code",
   "execution_count": 0,
   "metadata": {
    "application/vnd.databricks.v1+cell": {
     "cellMetadata": {
      "byteLimit": 2048000,
      "rowLimit": 10000
     },
     "inputWidgets": {},
     "nuid": "2302099f-0149-420f-845f-d6ce159b8980",
     "showTitle": false,
     "tableResultSettingsMap": {},
     "title": ""
    }
   },
   "outputs": [],
   "source": [
    "EXECUTE IMMEDIATE full_refresh_stmnt;"
   ]
  },
  {
   "cell_type": "code",
   "execution_count": 0,
   "metadata": {
    "application/vnd.databricks.v1+cell": {
     "cellMetadata": {
      "byteLimit": 2048000,
      "rowLimit": 10000
     },
     "inputWidgets": {},
     "nuid": "b223c688-9e11-4bd6-8234-7331741251e0",
     "showTitle": false,
     "tableResultSettingsMap": {},
     "title": ""
    }
   },
   "outputs": [],
   "source": [
    "DECLARE OR REPLACE VARIABLE table_specification STRING;\n",
    "\n",
    "SET VARIABLE table_specification = \"\n",
    "(\n",
    "  encounter_id STRING\n",
    "  ,encounter_start_date TIMESTAMP\n",
    "  ,encounter_end_date TIMESTAMP\n",
    "  ,patient_id STRING\n",
    "  ,organization_id STRING\n",
    "  ,provider_id STRING\n",
    "  ,payer_id STRING\n",
    "  ,encounter_class STRING\n",
    "  ,code BIGINT\n",
    "  ,description STRING\n",
    "  ,base_encounter_cost DOUBLE\n",
    "  ,total_claim_cost DOUBLE\n",
    "  ,payer_coverage DOUBLE\n",
    "  ,reason_code BIGINT\n",
    "  ,reason_description STRING\n",
    "  ,_rescued_data STRING\n",
    "  ,CONSTRAINT encounter_patient_id_null EXPECT (patient_id IS NOT NULL)\n",
    ")\""
   ]
  },
  {
   "cell_type": "code",
   "execution_count": 0,
   "metadata": {
    "application/vnd.databricks.v1+cell": {
     "cellMetadata": {
      "byteLimit": 2048000,
      "rowLimit": 10000
     },
     "inputWidgets": {},
     "nuid": "8d1217f5-ad5e-4e22-82b2-9cf9ec74a0fd",
     "showTitle": false,
     "tableResultSettingsMap": {},
     "title": ""
    }
   },
   "outputs": [],
   "source": [
    "DECLARE OR REPLACE VARIABLE table_clauses STRING; \n",
    "\n",
    "SET VARIABLE table_clauses = \"\n",
    "--COMMENT 'Raw snythethic patient data CSV files ingested from the landing volume for the \" || table_name || \" data set.'\n",
    "TBLPROPERTIES (\n",
    "  'quality' = 'bronze'\n",
    "  ,'delta.enableChangeDataFeed' = 'true'\n",
    "  ,'delta.enableDeletionVectors' = 'true'\n",
    "  ,'delta.enableRowTracking' = 'true'\n",
    ")\n",
    "--CLUSTER BY AUTO\""
   ]
  },
  {
   "cell_type": "code",
   "execution_count": 0,
   "metadata": {
    "application/vnd.databricks.v1+cell": {
     "cellMetadata": {
      "byteLimit": 2048000,
      "rowLimit": 10000
     },
     "inputWidgets": {},
     "nuid": "d49baa56-87f1-406a-a85f-df08f1f10597",
     "showTitle": false,
     "tableResultSettingsMap": {},
     "title": ""
    }
   },
   "outputs": [],
   "source": [
    "DECLARE OR REPLACE VARIABLE crst_stmnt STRING; \n",
    "\n",
    "SET VARIABLE crst_stmnt = \"CREATE OR REFRESH STREAMING TABLE \" || table_name ||  \n",
    "table_specification || \n",
    "table_clauses || \" \n",
    "AS SELECT\n",
    "  ID as encounter_id\n",
    "  ,START as encounter_start_date\n",
    "  ,STOP as encounter_end_date\n",
    "  ,PATIENT as patient_id\n",
    "  ,ORGANIZATION as organization_id\n",
    "  ,PROVIDER as provider_id\n",
    "  ,PAYER as payer_id\n",
    "  ,ENCOUNTERCLASS as encounter_class\n",
    "  ,CODE as code\n",
    "  ,DESCRIPTION as description \n",
    "  ,BASE_ENCOUNTER_COST as base_encounter_cost\n",
    "  ,TOTAL_CLAIM_COST as total_claim_cost\n",
    "  ,PAYER_COVERAGE as payer_coverage\n",
    "  ,REASONCODE as reason_code\n",
    "  ,REASONDESCRIPTION as reason_description\n",
    "  ,_rescued_data\n",
    "FROM STREAM (\"|| table_name || \"_bronze);\";\n",
    "\n",
    "SELECT crst_stmnt;"
   ]
  },
  {
   "cell_type": "code",
   "execution_count": 0,
   "metadata": {
    "application/vnd.databricks.v1+cell": {
     "cellMetadata": {
      "byteLimit": 2048000,
      "rowLimit": 10000
     },
     "inputWidgets": {},
     "nuid": "d97bc108-8bad-497d-963d-e7ae91fd6862",
     "showTitle": false,
     "tableResultSettingsMap": {},
     "title": ""
    }
   },
   "outputs": [],
   "source": [
    "EXECUTE IMMEDIATE crst_stmnt;"
   ]
  },
  {
   "cell_type": "code",
   "execution_count": 0,
   "metadata": {
    "application/vnd.databricks.v1+cell": {
     "cellMetadata": {
      "byteLimit": 2048000,
      "rowLimit": 10000
     },
     "inputWidgets": {},
     "nuid": "3a5da340-ceca-475c-8c6c-a5eaaf3eace8",
     "showTitle": false,
     "tableResultSettingsMap": {},
     "title": ""
    }
   },
   "outputs": [],
   "source": [
    "SHOW CREATE TABLE IDENTIFIER(table_name);"
   ]
  },
  {
   "cell_type": "code",
   "execution_count": 0,
   "metadata": {
    "application/vnd.databricks.v1+cell": {
     "cellMetadata": {
      "byteLimit": 2048000,
      "rowLimit": 10000
     },
     "inputWidgets": {},
     "nuid": "a851c52e-0fd2-40c9-9049-53b491d3e548",
     "showTitle": false,
     "tableResultSettingsMap": {},
     "title": ""
    }
   },
   "outputs": [],
   "source": [
    "DESCRIBE SCHEMA IDENTIFIER(catalog_name || \".\" || schema_name);"
   ]
  },
  {
   "cell_type": "code",
   "execution_count": 0,
   "metadata": {
    "application/vnd.databricks.v1+cell": {
     "cellMetadata": {
      "byteLimit": 2048000,
      "rowLimit": 10000
     },
     "inputWidgets": {},
     "nuid": "9dad3e1e-6f72-4509-b2a0-7232cd7a2e76",
     "showTitle": false,
     "tableResultSettingsMap": {},
     "title": ""
    }
   },
   "outputs": [],
   "source": [
    "ANALYZE TABLE table_name;"
   ]
  },
  {
   "cell_type": "code",
   "execution_count": 0,
   "metadata": {
    "application/vnd.databricks.v1+cell": {
     "cellMetadata": {
      "byteLimit": 2048000,
      "rowLimit": 10000
     },
     "inputWidgets": {},
     "nuid": "a36fce5e-0e33-4126-bdf5-4f00774435a3",
     "showTitle": false,
     "tableResultSettingsMap": {},
     "title": ""
    }
   },
   "outputs": [],
   "source": [
    "CREATE OR REPLACE FUNCTION table_properties(table_name STRING)\n",
    "RETURNS TABLE(key STRING, value STRING)\n",
    "RETURN SHOW TABLE IDENTIFIER(table_name);"
   ]
  },
  {
   "cell_type": "code",
   "execution_count": 0,
   "metadata": {
    "application/vnd.databricks.v1+cell": {
     "cellMetadata": {
      "byteLimit": 2048000,
      "rowLimit": 10000
     },
     "inputWidgets": {},
     "nuid": "0df5f46a-551a-4c5c-b28d-137c66f711b4",
     "showTitle": false,
     "tableResultSettingsMap": {},
     "title": ""
    }
   },
   "outputs": [],
   "source": [
    "WITH tbl_prop as (\n",
    "  SELECT key, value FROM table_properties(table_name)\n",
    ")\n",
    "SELECT \n",
    "  value\n",
    "FROM \n",
    "  tbl_prop\n",
    "WHERE \n",
    "  key = 'pipelines.pipelineId'\n",
    ";"
   ]
  },
  {
   "cell_type": "code",
   "execution_count": 0,
   "metadata": {
    "application/vnd.databricks.v1+cell": {
     "cellMetadata": {
      "byteLimit": 2048000,
      "rowLimit": 10000
     },
     "inputWidgets": {},
     "nuid": "891253d2-aad6-403e-b863-ac67e3a3dd18",
     "showTitle": false,
     "tableResultSettingsMap": {},
     "title": ""
    }
   },
   "outputs": [],
   "source": [
    "SELECT \n",
    "  *\n",
    "  ,parse_json(details) as details_parsed\n",
    "FROM \n",
    "  __databricks_internal.__dlt_materialization_schema_d2b14e06_d391_4f6f_93b9_77ddafdee0e4.__event_log\n",
    "-- WHERE \n",
    "--   event_type = 'data_quality'\n",
    "ORDER BY \n",
    "  timestamp DESC;"
   ]
  }
 ],
 "metadata": {
  "application/vnd.databricks.v1+notebook": {
   "computePreferences": null,
   "dashboards": [],
   "environmentMetadata": {
    "base_environment": "",
    "environment_version": "2"
   },
   "inputWidgetPreferences": null,
   "language": "sql",
   "notebookMetadata": {
    "pythonIndentUnit": 2
   },
   "notebookName": "Encounters",
   "widgets": {
    "catalog_name": {
     "currentValue": "mgiglia",
     "nuid": "385fda34-3a8c-4927-a02b-fdf99f836c14",
     "typedWidgetInfo": {
      "autoCreated": false,
      "defaultValue": "main",
      "label": "",
      "name": "catalog_name",
      "options": {
       "widgetDisplayType": "Text",
       "validationRegex": null
      },
      "parameterDataType": "String"
     },
     "widgetInfo": {
      "widgetType": "text",
      "defaultValue": "main",
      "label": "",
      "name": "catalog_name",
      "options": {
       "widgetType": "text",
       "autoCreated": false,
       "validationRegex": null
      }
     }
    },
    "full_refresh": {
     "currentValue": "true",
     "nuid": "2fe21a4e-2c53-4035-b6db-7d233e73faa1",
     "typedWidgetInfo": {
      "autoCreated": false,
      "defaultValue": "false",
      "label": "",
      "name": "full_refresh",
      "options": {
       "widgetDisplayType": "Dropdown",
       "choices": [
        "true",
        "false"
       ],
       "fixedDomain": true,
       "multiselect": false
      },
      "parameterDataType": "String"
     },
     "widgetInfo": {
      "widgetType": "dropdown",
      "defaultValue": "false",
      "label": "",
      "name": "full_refresh",
      "options": {
       "widgetType": "dropdown",
       "autoCreated": false,
       "choices": [
        "true",
        "false"
       ]
      }
     }
    },
    "schema_name": {
     "currentValue": "synthea",
     "nuid": "49105326-e1e0-48de-8979-cb2cad9f3202",
     "typedWidgetInfo": {
      "autoCreated": false,
      "defaultValue": "synthea",
      "label": "",
      "name": "schema_name",
      "options": {
       "widgetDisplayType": "Text",
       "validationRegex": null
      },
      "parameterDataType": "String"
     },
     "widgetInfo": {
      "widgetType": "text",
      "defaultValue": "synthea",
      "label": "",
      "name": "schema_name",
      "options": {
       "widgetType": "text",
       "autoCreated": false,
       "validationRegex": null
      }
     }
    },
    "table_name": {
     "currentValue": "encounters",
     "nuid": "b8dad4af-7e44-45e5-abdb-52ef3691bee2",
     "typedWidgetInfo": {
      "autoCreated": false,
      "defaultValue": "encounters",
      "label": "",
      "name": "table_name",
      "options": {
       "widgetDisplayType": "Dropdown",
       "choices": [
        "encounters"
       ],
       "fixedDomain": true,
       "multiselect": false
      },
      "parameterDataType": "String"
     },
     "widgetInfo": {
      "widgetType": "dropdown",
      "defaultValue": "encounters",
      "label": "",
      "name": "table_name",
      "options": {
       "widgetType": "dropdown",
       "autoCreated": false,
       "choices": [
        "encounters"
       ]
      }
     }
    }
   }
  },
  "language_info": {
   "name": "sql"
  }
 },
 "nbformat": 4,
 "nbformat_minor": 0
}
