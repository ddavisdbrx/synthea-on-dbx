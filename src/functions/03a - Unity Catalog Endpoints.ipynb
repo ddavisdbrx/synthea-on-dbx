{
 "cells": [
  {
   "cell_type": "code",
   "execution_count": 0,
   "metadata": {
    "application/vnd.databricks.v1+cell": {
     "cellMetadata": {
      "byteLimit": 2048000,
      "rowLimit": 10000
     },
     "inputWidgets": {},
     "nuid": "a0684bca-2949-4c01-838f-4ef79196ec30",
     "showTitle": false,
     "tableResultSettingsMap": {},
     "title": ""
    }
   },
   "outputs": [],
   "source": [
    "DECLARE OR REPLACE VARIABLE catalog_use = 'main';\n",
    "DECLARE OR REPLACE VARIABLE schema_use = 'synthea';"
   ]
  },
  {
   "cell_type": "code",
   "execution_count": 0,
   "metadata": {
    "application/vnd.databricks.v1+cell": {
     "cellMetadata": {
      "byteLimit": 2048000,
      "rowLimit": 10000
     },
     "inputWidgets": {},
     "nuid": "8487279c-cebd-4dd2-bb22-ad62f2996a3a",
     "showTitle": false,
     "tableResultSettingsMap": {},
     "title": ""
    }
   },
   "outputs": [],
   "source": [
    "SET VARIABLE catalog_use = :catalog_use;\n",
    "SET VARIABLE schema_use = :schema_use; "
   ]
  },
  {
   "cell_type": "code",
   "execution_count": 0,
   "metadata": {
    "application/vnd.databricks.v1+cell": {
     "cellMetadata": {
      "byteLimit": 2048000,
      "rowLimit": 10000
     },
     "inputWidgets": {},
     "nuid": "4bad4646-30a8-48bd-a1cb-50839394c5e6",
     "showTitle": false,
     "tableResultSettingsMap": {},
     "title": ""
    }
   },
   "outputs": [],
   "source": [
    "USE IDENTIFIER(catalog_use || '.' || schema_use);\n",
    "SELECT current_catalog(), current_schema();"
   ]
  },
  {
   "cell_type": "code",
   "execution_count": 0,
   "metadata": {
    "application/vnd.databricks.v1+cell": {
     "cellMetadata": {
      "byteLimit": 2048000,
      "rowLimit": 10000
     },
     "inputWidgets": {},
     "nuid": "a1445445-3b1f-413b-9d5c-b374771872dc",
     "showTitle": false,
     "tableResultSettingsMap": {},
     "title": ""
    }
   },
   "outputs": [],
   "source": [
    "SHOW FUNCTIONS;"
   ]
  },
  {
   "cell_type": "code",
   "execution_count": 0,
   "metadata": {
    "application/vnd.databricks.v1+cell": {
     "cellMetadata": {
      "byteLimit": 2048000,
      "rowLimit": 10000
     },
     "inputWidgets": {},
     "nuid": "8a94f6a1-c7e4-4554-bbb0-dfc5874ad2f6",
     "showTitle": false,
     "tableResultSettingsMap": {},
     "title": ""
    }
   },
   "outputs": [],
   "source": [
    "SELECT\n",
    "  databricks_rest_get(\n",
    "    endpoint => '/2.1/unity-catalog'\n",
    "    ,resource => 'tables'\n",
    "    ,path_parameters => NULL\n",
    "    ,query_parameters => array('catalog_name=mgiglia', 'schema_name=synthea')\n",
    "    ,body => NULL\n",
    "  )"
   ]
  },
  {
   "cell_type": "code",
   "execution_count": 0,
   "metadata": {
    "application/vnd.databricks.v1+cell": {
     "cellMetadata": {
      "byteLimit": 2048000,
      "rowLimit": 10000
     },
     "inputWidgets": {},
     "nuid": "50a90eb5-bef7-4f4a-9ee7-c8fa980567e7",
     "showTitle": false,
     "tableResultSettingsMap": {},
     "title": ""
    }
   },
   "outputs": [],
   "source": [
    "CREATE OR REPLACE FUNCTION databricks_rest_unity_catalog(\n",
    "  conn STRING COMMENT 'The name of the Unity Catalog HTTP Connection for the Databricks REST API.'\n",
    "  ,method STRING DEFAULT 'GET' COMMENT 'The HTTP Method to use for the request to the Unity Catalog API.'\n",
    "  ,resource STRING COMMENT \"The Unity Catalog API asset or service to perform actions against such as 'Tables', 'Catalogs', 'Artifact Allow Lists', etc.\"\n",
    "  ,path_parameters ARRAY<STRING> COMMENT \"An array of path parameters to append to the Unity Catalog API resource url if applicable.\"\n",
    "  ,query_parameters ARRAY<STRING> COMMENT \"An array of query parameters to apply to the endpoint URL.\"\n",
    "  ,body STRING COMMENT \"The JSON body of the request to send to the Unity Catalog API as a string.\"\n",
    ")\n",
    "RETURNS VARIANT\n",
    "COMMENT 'A function to perform actions against the Unity Catalog Databricks REST API.'\n",
    "LANGUAGE SQL\n",
    "RETURN (\n",
    "  SELECT\n",
    "    parse_json(\n",
    "      http_request(\n",
    "        conn => conn\n",
    "        ,method => method\n",
    "        ,path => CASE when path_parameters IS NULL and query_parameters IS NULL THEN concat('/2.1/unity-catalog/', resource)\n",
    "                      when path_parameters IS NULL and query_parameters IS NOT NULL THEN concat('/2.1/unity-catalog/', resource, '?', array_join(query_parameters, '&')) \n",
    "                      when path_parameters IS NOT NULL and query_parameters IS NULL THEN concat('/2.1/unity-catalog/', resource, '/', array_join(path_parameters, '/'))\n",
    "                      ELSE concat('/2.1/unity-catalog/', resource, '/', array_join(path_parameters, '/'), '?', array_join(query_parameters, '&')) END\n",
    "        ,json => CASE when body IS NULL THEN NULL else to_json(body) END\n",
    "      ).text\n",
    "    ) as resp_variant\n",
    ")"
   ]
  }
 ],
 "metadata": {
  "application/vnd.databricks.v1+notebook": {
   "computePreferences": null,
   "dashboards": [],
   "environmentMetadata": {
    "base_environment": "",
    "environment_version": "2"
   },
   "inputWidgetPreferences": null,
   "language": "sql",
   "notebookMetadata": {
    "pythonIndentUnit": 2
   },
   "notebookName": "03a - Unity Catalog Endpoints",
   "widgets": {
    "catalog_use": {
     "currentValue": "mgiglia",
     "nuid": "f1861322-cbb8-44f2-accd-d320b466851b",
     "typedWidgetInfo": {
      "autoCreated": false,
      "defaultValue": "main",
      "label": "",
      "name": "catalog_use",
      "options": {
       "widgetDisplayType": "Text",
       "validationRegex": null
      },
      "parameterDataType": "String"
     },
     "widgetInfo": {
      "widgetType": "text",
      "defaultValue": "main",
      "label": "",
      "name": "catalog_use",
      "options": {
       "widgetType": "text",
       "autoCreated": false,
       "validationRegex": null
      }
     }
    },
    "schema_use": {
     "currentValue": "synthea",
     "nuid": "75fc9d9e-6208-4d38-bd55-b0344b9722ec",
     "typedWidgetInfo": {
      "autoCreated": false,
      "defaultValue": "synthea",
      "label": "",
      "name": "schema_use",
      "options": {
       "widgetDisplayType": "Text",
       "validationRegex": null
      },
      "parameterDataType": "String"
     },
     "widgetInfo": {
      "widgetType": "text",
      "defaultValue": "synthea",
      "label": "",
      "name": "schema_use",
      "options": {
       "widgetType": "text",
       "autoCreated": false,
       "validationRegex": null
      }
     }
    }
   }
  },
  "language_info": {
   "name": "sql"
  }
 },
 "nbformat": 4,
 "nbformat_minor": 0
}
