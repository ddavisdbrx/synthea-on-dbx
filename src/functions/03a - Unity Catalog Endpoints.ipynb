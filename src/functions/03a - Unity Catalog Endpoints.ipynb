{
 "cells": [
  {
   "cell_type": "code",
   "execution_count": 0,
   "metadata": {
    "application/vnd.databricks.v1+cell": {
     "cellMetadata": {
      "byteLimit": 2048000,
      "rowLimit": 10000
     },
     "inputWidgets": {},
     "nuid": "a0684bca-2949-4c01-838f-4ef79196ec30",
     "showTitle": false,
     "tableResultSettingsMap": {},
     "title": ""
    }
   },
   "outputs": [],
   "source": [
    "DECLARE OR REPLACE VARIABLE catalog_use = 'main';\n",
    "DECLARE OR REPLACE VARIABLE schema_use = 'synthea';"
   ]
  },
  {
   "cell_type": "code",
   "execution_count": 0,
   "metadata": {
    "application/vnd.databricks.v1+cell": {
     "cellMetadata": {
      "byteLimit": 2048000,
      "rowLimit": 10000
     },
     "inputWidgets": {},
     "nuid": "8487279c-cebd-4dd2-bb22-ad62f2996a3a",
     "showTitle": false,
     "tableResultSettingsMap": {},
     "title": ""
    }
   },
   "outputs": [],
   "source": [
    "SET VARIABLE catalog_use = :catalog_use;\n",
    "SET VARIABLE schema_use = :schema_use; "
   ]
  },
  {
   "cell_type": "code",
   "execution_count": 0,
   "metadata": {
    "application/vnd.databricks.v1+cell": {
     "cellMetadata": {
      "byteLimit": 2048000,
      "rowLimit": 10000
     },
     "inputWidgets": {},
     "nuid": "4bad4646-30a8-48bd-a1cb-50839394c5e6",
     "showTitle": false,
     "tableResultSettingsMap": {},
     "title": ""
    }
   },
   "outputs": [],
   "source": [
    "USE IDENTIFIER(catalog_use || '.' || schema_use);\n",
    "SELECT current_catalog(), current_schema();"
   ]
  },
  {
   "cell_type": "code",
   "execution_count": 0,
   "metadata": {
    "application/vnd.databricks.v1+cell": {
     "cellMetadata": {
      "byteLimit": 2048000,
      "rowLimit": 10000
     },
     "inputWidgets": {},
     "nuid": "a1445445-3b1f-413b-9d5c-b374771872dc",
     "showTitle": false,
     "tableResultSettingsMap": {},
     "title": ""
    }
   },
   "outputs": [],
   "source": [
    "FROM identifier(catalog_use || '.information_schema.routines') |>\n",
    "WHERE specific_schema = schema_use |>\n",
    "SELECT specific_catalog, specific_schema, specific_name, routine_type, routine_definition, routine_body, data_type;"
   ]
  },
  {
   "cell_type": "code",
   "execution_count": 0,
   "metadata": {
    "application/vnd.databricks.v1+cell": {
     "cellMetadata": {
      "byteLimit": 2048000,
      "rowLimit": 10000
     },
     "inputWidgets": {},
     "nuid": "8a94f6a1-c7e4-4554-bbb0-dfc5874ad2f6",
     "showTitle": false,
     "tableResultSettingsMap": {},
     "title": ""
    }
   },
   "outputs": [],
   "source": [
    "SELECT\n",
    "  databricks_rest_get(\n",
    "    endpoint => '/2.1/unity-catalog'\n",
    "    ,resource => 'tables'\n",
    "    ,path_parameters => NULL\n",
    "    ,query_parameters => array('catalog_name=mgiglia', 'schema_name=synthea')\n",
    "    ,body => NULL\n",
    "  )"
   ]
  },
  {
   "cell_type": "code",
   "execution_count": 0,
   "metadata": {
    "application/vnd.databricks.v1+cell": {
     "cellMetadata": {
      "byteLimit": 2048000,
      "rowLimit": 10000
     },
     "inputWidgets": {},
     "nuid": "1cba85e7-b8a3-4674-9a02-304887e11318",
     "showTitle": false,
     "tableResultSettingsMap": {},
     "title": ""
    }
   },
   "outputs": [],
   "source": [
    "CREATE OR REPLACE FUNCTION databricks_rest_unity_catalog_get_table(\n",
    "  full_name STRING COMMENT 'Full name of the table. Required path parameter.'\n",
    "  ,query_parameters ARRAY<STRING> COMMENT 'An array of query parameters to apply to the endpoint URL if applicable.'\n",
    ")\n",
    "RETURNS VARIANT \n",
    "COMMENT 'Performs actions against the Unity Catalog Databricks REST API Endpoint.'\n",
    "LANGUAGE SQL \n",
    "RETURN \n",
    "SELECT \n",
    "  databricks_rest_get(\n",
    "    endpoint => '/2.1/unity-catalog'\n",
    "    ,resource => 'tables'\n",
    "    ,path_parameters => array(full_name)\n",
    "    ,query_parameters => NULL\n",
    "    ,body => NULL\n",
    "  )\n",
    ";"
   ]
  },
  {
   "cell_type": "code",
   "execution_count": 0,
   "metadata": {
    "application/vnd.databricks.v1+cell": {
     "cellMetadata": {
      "byteLimit": 2048000,
      "rowLimit": 10000
     },
     "inputWidgets": {},
     "nuid": "e2271ddd-092a-4bae-bc90-cde00493ef88",
     "showTitle": false,
     "tableResultSettingsMap": {},
     "title": ""
    }
   },
   "outputs": [],
   "source": [
    "SELECT \n",
    "  databricks_rest_unity_catalog_get_table(\n",
    "    'mgiglia.synthea.encounters'\n",
    "    ,array(\n",
    "      'include_delta_metadata=true'\n",
    "      ,'include_browse=true'\n",
    "      ,'include_manifest_capabilities=true'\n",
    "    )\n",
    "  ) as response\n"
   ]
  },
  {
   "cell_type": "code",
   "execution_count": 0,
   "metadata": {
    "application/vnd.databricks.v1+cell": {
     "cellMetadata": {
      "byteLimit": 2048000,
      "rowLimit": 10000
     },
     "inputWidgets": {},
     "nuid": "7053ef77-35c0-4b8f-be3c-a4a30041063b",
     "showTitle": false,
     "tableResultSettingsMap": {},
     "title": ""
    }
   },
   "outputs": [],
   "source": [
    "FROM (\n",
    "  SELECT \n",
    "    databricks_rest_unity_catalog_get_table(\n",
    "      'mgiglia.synthea.encounters'\n",
    "      ,array(\n",
    "        'include_delta_metadata=true'\n",
    "        ,'include_browse=true'\n",
    "        ,'include_manifest_capabilities=true'\n",
    "      )\n",
    "    ) as response\n",
    ")\n",
    ",LATERAL variant_explode(response:properties) as properties |> \n",
    "SELECT properties.key, properties.value |>\n",
    "PIVOT (first(value) for key in (\"spark.internal.streaming_table.internal_catalog\", \"spark.internal.streaming_table.internal_schema\")) |>\n",
    "SELECT CONCAT(`spark.internal.streaming_table.internal_catalog`, '.', `spark.internal.streaming_table.internal_schema`, '.__event_log') as event_log_table;"
   ]
  },
  {
   "cell_type": "code",
   "execution_count": 0,
   "metadata": {
    "application/vnd.databricks.v1+cell": {
     "cellMetadata": {
      "byteLimit": 2048000,
      "rowLimit": 10000
     },
     "inputWidgets": {},
     "nuid": "7a51b002-e886-40a0-8037-383034704883",
     "showTitle": false,
     "tableResultSettingsMap": {},
     "title": ""
    }
   },
   "outputs": [],
   "source": [
    "CREATE OR REPLACE FUNCTION get_event_log_table_full_name(\n",
    "  full_name STRING COMMENT 'Full name of the streaming table to retrieve the event log table name full name for.'\n",
    ")\n",
    "RETURNS STRING\n",
    "COMMENT 'Returns the full name (Unity Catalog three level namespace) of the event log table for the given streaming table.'\n",
    "LANGUAGE SQL\n",
    "RETURN \n",
    "FROM (\n",
    "  SELECT \n",
    "    databricks_rest_unity_catalog_get_table(\n",
    "      full_name\n",
    "      ,array(\n",
    "        'include_browse=true'\n",
    "      )\n",
    "    ) as response\n",
    ")\n",
    ",LATERAL variant_explode(response:properties) as properties |> \n",
    "SELECT properties.key, properties.value |>\n",
    "PIVOT (first(value) for key in (\"spark.internal.streaming_table.internal_catalog\", \"spark.internal.streaming_table.internal_schema\")) |>\n",
    "SELECT CONCAT(`spark.internal.streaming_table.internal_catalog`, '.', `spark.internal.streaming_table.internal_schema`, '.__event_log');"
   ]
  },
  {
   "cell_type": "code",
   "execution_count": 0,
   "metadata": {
    "application/vnd.databricks.v1+cell": {
     "cellMetadata": {
      "byteLimit": 2048000,
      "rowLimit": 10000
     },
     "inputWidgets": {},
     "nuid": "81c0160e-d93a-4848-9c38-889db77379b9",
     "showTitle": false,
     "tableResultSettingsMap": {},
     "title": ""
    }
   },
   "outputs": [],
   "source": [
    "SELECT get_event_log_table_full_name('mgiglia.synthea.encounters');"
   ]
  },
  {
   "cell_type": "code",
   "execution_count": 0,
   "metadata": {
    "application/vnd.databricks.v1+cell": {
     "cellMetadata": {
      "byteLimit": 2048000,
      "rowLimit": 10000
     },
     "inputWidgets": {},
     "nuid": "f6e7d3d1-2200-40c0-ab6f-155d70a1f59e",
     "showTitle": false,
     "tableResultSettingsMap": {},
     "title": ""
    }
   },
   "outputs": [],
   "source": [
    "DECLARE OR REPLACE VARIABLE event_log_table_name STRING;\n",
    "\n",
    "SET VARIABLE event_log_table_name = get_event_log_table_full_name('mgiglia.synthea.encounters');\n",
    "\n",
    "SELECT event_log_table_name;"
   ]
  },
  {
   "cell_type": "code",
   "execution_count": 0,
   "metadata": {
    "application/vnd.databricks.v1+cell": {
     "cellMetadata": {
      "byteLimit": 2048000,
      "rowLimit": 10000
     },
     "inputWidgets": {},
     "nuid": "b4fe9ca4-c5e5-4fda-8019-cb749f7861a3",
     "showTitle": false,
     "tableResultSettingsMap": {},
     "title": ""
    }
   },
   "outputs": [],
   "source": [
    "SELECT * FROM IDENTIFIER(event_log_table_name);"
   ]
  }
 ],
 "metadata": {
  "application/vnd.databricks.v1+notebook": {
   "computePreferences": null,
   "dashboards": [],
   "environmentMetadata": {
    "base_environment": "",
    "environment_version": "2"
   },
   "inputWidgetPreferences": null,
   "language": "sql",
   "notebookMetadata": {
    "pythonIndentUnit": 2
   },
   "notebookName": "03a - Unity Catalog Endpoints",
   "widgets": {
    "catalog_use": {
     "currentValue": "mgiglia",
     "nuid": "f1861322-cbb8-44f2-accd-d320b466851b",
     "typedWidgetInfo": {
      "autoCreated": false,
      "defaultValue": "main",
      "label": "",
      "name": "catalog_use",
      "options": {
       "widgetDisplayType": "Text",
       "validationRegex": null
      },
      "parameterDataType": "String"
     },
     "widgetInfo": {
      "widgetType": "text",
      "defaultValue": "main",
      "label": "",
      "name": "catalog_use",
      "options": {
       "widgetType": "text",
       "autoCreated": false,
       "validationRegex": null
      }
     }
    },
    "schema_use": {
     "currentValue": "synthea",
     "nuid": "75fc9d9e-6208-4d38-bd55-b0344b9722ec",
     "typedWidgetInfo": {
      "autoCreated": false,
      "defaultValue": "synthea",
      "label": "",
      "name": "schema_use",
      "options": {
       "widgetDisplayType": "Text",
       "validationRegex": null
      },
      "parameterDataType": "String"
     },
     "widgetInfo": {
      "widgetType": "text",
      "defaultValue": "synthea",
      "label": "",
      "name": "schema_use",
      "options": {
       "widgetType": "text",
       "autoCreated": false,
       "validationRegex": null
      }
     }
    }
   }
  },
  "language_info": {
   "name": "sql"
  }
 },
 "nbformat": 4,
 "nbformat_minor": 0
}
