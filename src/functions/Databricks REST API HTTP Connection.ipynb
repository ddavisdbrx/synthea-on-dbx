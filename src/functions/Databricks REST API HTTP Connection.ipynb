{
 "cells": [
  {
   "cell_type": "markdown",
   "metadata": {
    "application/vnd.databricks.v1+cell": {
     "cellMetadata": {
      "byteLimit": 2048000,
      "rowLimit": 10000
     },
     "inputWidgets": {},
     "nuid": "02b49efa-7b23-44f1-902d-f8e6d2cb62d9",
     "showTitle": false,
     "tableResultSettingsMap": {},
     "title": ""
    }
   },
   "source": [
    "_Note: This notebook requires DBR 16.2 or higher if executed against a classic compute cluster.  Databricks Serverless SQL Warehouse is preferred. Unity Catalog must be enabled with catalog and schema that the \"run as\" user has the ability to create and execute functions._"
   ]
  },
  {
   "cell_type": "code",
   "execution_count": 0,
   "metadata": {
    "application/vnd.databricks.v1+cell": {
     "cellMetadata": {
      "byteLimit": 2048000,
      "rowLimit": 10000
     },
     "inputWidgets": {},
     "nuid": "3175efce-f273-4e4a-81f3-05521ba84e94",
     "showTitle": false,
     "tableResultSettingsMap": {},
     "title": ""
    }
   },
   "outputs": [],
   "source": [
    "DECLARE OR REPLACE VARIABLE secret_scope STRING DEFAULT REPLACE(SPLIT(current_user(), \"@\")[0], \".\", \"-\");\n",
    "DECLARE OR REPLACE VARIABLE secret_key_client_id STRING DEFAULT \"spn_client_id\";\n",
    "DECLARE OR REPLACE VARIABLE secret_key_client_secret STRING DEFAULT \"spn_client_secret\";\n",
    "DECLARE OR REPLACE VARIABLE workspace_url STRING DEFAULT \"https://e2-demo-field-eng.cloud.databricks.com\";\n",
    "DECLARE OR REPLACE VARIABLE connection_name STRING DEFAULT \"databricks_rest_api\";"
   ]
  },
  {
   "cell_type": "code",
   "execution_count": 0,
   "metadata": {
    "application/vnd.databricks.v1+cell": {
     "cellMetadata": {
      "byteLimit": 2048000,
      "rowLimit": 10000
     },
     "inputWidgets": {},
     "nuid": "6fe7152f-9179-4898-a24b-75abeaf4bf0d",
     "showTitle": false,
     "tableResultSettingsMap": {},
     "title": ""
    }
   },
   "outputs": [],
   "source": [
    "SET VARIABLE secret_scope = :secret_scope; \n",
    "SET VARIABLE secret_key_client_id = :secret_key_client_id;\n",
    "SET VARIABLE secret_key_client_secret = :secret_key_client_secret;\n",
    "SET VARIABLE workspace_url = :workspace_url;\n",
    "SET VARIABLE connection_name = :connection_name;"
   ]
  },
  {
   "cell_type": "code",
   "execution_count": 0,
   "metadata": {
    "application/vnd.databricks.v1+cell": {
     "cellMetadata": {
      "byteLimit": 2048000,
      "rowLimit": 10000
     },
     "inputWidgets": {},
     "nuid": "bf92a6a9-47c1-4e5f-808c-aa855baed034",
     "showTitle": false,
     "tableResultSettingsMap": {},
     "title": ""
    }
   },
   "outputs": [],
   "source": [
    "SELECT catalog_use, schema_use, secret_scope, secret_key_client_id, secret_key_client_secret, workspace_url, connection_name;"
   ]
  },
  {
   "cell_type": "code",
   "execution_count": 0,
   "metadata": {
    "application/vnd.databricks.v1+cell": {
     "cellMetadata": {
      "byteLimit": 2048000,
      "rowLimit": 10000
     },
     "inputWidgets": {},
     "nuid": "52258391-5945-4917-9cd6-32b784be5af3",
     "showTitle": false,
     "tableResultSettingsMap": {},
     "title": ""
    }
   },
   "outputs": [],
   "source": [
    "SELECT \n",
    "  CASE \n",
    "    WHEN isnull(try_secret(secret_scope, secret_key_client_id)) then \"Message: Secret not found.\\nPlease check that your Service Principal's details are stored in a Databricks secret with the correct secret_scope and secret_key, and that the secret_scope is accessable to the 'run_as' user of this notebook.\"\n",
    "    ELSE \"Secret for Service Principal's details are found and accessible to the 'run_as' user of this notebook.\\nIf the create connection fails further in the notebook please ensure that the PAT is not expired and that the 'run_as' user has the correct permissions in Unity Catalog.\"\n",
    "  END AS databricks_pat_secret_check\n",
    ";"
   ]
  },
  {
   "cell_type": "code",
   "execution_count": 0,
   "metadata": {
    "application/vnd.databricks.v1+cell": {
     "cellMetadata": {
      "byteLimit": 2048000,
      "rowLimit": 10000
     },
     "inputWidgets": {},
     "nuid": "979e4433-d8ee-499d-b43b-ba7fa32da73e",
     "showTitle": false,
     "tableResultSettingsMap": {},
     "title": ""
    }
   },
   "outputs": [],
   "source": [
    "DECLARE OR REPLACE VARIABLE http_connection_stmnt STRING DEFAULT \"\n",
    "CREATE CONNECTION IF NOT EXISTS \" || connection_name || \" TYPE HTTP\n",
    " OPTIONS (\n",
    "   host '\" || workspace_url || \"'\n",
    "   ,port 443\n",
    "   ,base_path '/api'\n",
    "   ,client_id secret('\" || secret_scope || \"', '\" || secret_key_client_id || \"')\n",
    "   ,client_secret secret('\" || secret_scope || \"', '\" || secret_key_client_secret || \"')\n",
    "   ,token_endpoint '\" || workspace_url || \"/oidc/v1/token'\n",
    "   ,oauth_scope 'all-apis'\n",
    " );\n",
    "\";\n",
    "\n",
    "SELECT http_connection_stmnt;"
   ]
  },
  {
   "cell_type": "code",
   "execution_count": 0,
   "metadata": {
    "application/vnd.databricks.v1+cell": {
     "cellMetadata": {
      "byteLimit": 2048000,
      "rowLimit": 10000
     },
     "inputWidgets": {},
     "nuid": "131be242-79f4-428a-8879-e78cfc7bf340",
     "showTitle": false,
     "tableResultSettingsMap": {},
     "title": ""
    }
   },
   "outputs": [],
   "source": [
    "EXECUTE IMMEDIATE http_connection_stmnt;"
   ]
  },
  {
   "cell_type": "code",
   "execution_count": 0,
   "metadata": {
    "application/vnd.databricks.v1+cell": {
     "cellMetadata": {},
     "inputWidgets": {},
     "nuid": "9c6b4abc-6fc7-4f2b-910b-3b2ef04c9d80",
     "showTitle": false,
     "tableResultSettingsMap": {},
     "title": ""
    }
   },
   "outputs": [],
   "source": []
  }
 ],
 "metadata": {
  "application/vnd.databricks.v1+notebook": {
   "computePreferences": null,
   "dashboards": [],
   "environmentMetadata": {
    "base_environment": "",
    "environment_version": "2"
   },
   "inputWidgetPreferences": null,
   "language": "sql",
   "notebookMetadata": {
    "pythonIndentUnit": 2
   },
   "notebookName": "Databricks REST API HTTP Connection",
   "widgets": {
    "catalog_use": {
     "currentValue": "mgiglia",
     "nuid": "fc347003-a8fd-41a8-b906-01d5eb837a77",
     "typedWidgetInfo": {
      "autoCreated": false,
      "defaultValue": "main",
      "label": "",
      "name": "catalog_use",
      "options": {
       "widgetDisplayType": "Text",
       "validationRegex": null
      },
      "parameterDataType": "String"
     },
     "widgetInfo": {
      "widgetType": "text",
      "defaultValue": "main",
      "label": "",
      "name": "catalog_use",
      "options": {
       "widgetType": "text",
       "autoCreated": false,
       "validationRegex": null
      }
     }
    },
    "connection_name": {
     "currentValue": "databricks_rest_api_mgiglia",
     "nuid": "e5677268-f264-469a-a2a5-2212a837bd41",
     "typedWidgetInfo": {
      "autoCreated": false,
      "defaultValue": "databricks_rest_api",
      "label": "",
      "name": "connection_name",
      "options": {
       "widgetDisplayType": "Text",
       "validationRegex": null
      },
      "parameterDataType": "String"
     },
     "widgetInfo": {
      "widgetType": "text",
      "defaultValue": "databricks_rest_api",
      "label": "",
      "name": "connection_name",
      "options": {
       "widgetType": "text",
       "autoCreated": false,
       "validationRegex": null
      }
     }
    },
    "schema_use": {
     "currentValue": "synthea",
     "nuid": "d7c8f91c-9339-43bd-8e8d-9d02a6fd8d88",
     "typedWidgetInfo": {
      "autoCreated": false,
      "defaultValue": "synthea",
      "label": "",
      "name": "schema_use",
      "options": {
       "widgetDisplayType": "Text",
       "validationRegex": null
      },
      "parameterDataType": "String"
     },
     "widgetInfo": {
      "widgetType": "text",
      "defaultValue": "synthea",
      "label": "",
      "name": "schema_use",
      "options": {
       "widgetType": "text",
       "autoCreated": false,
       "validationRegex": null
      }
     }
    },
    "secret_key_client_id": {
     "currentValue": "spn_client_id",
     "nuid": "72064146-95a7-4bd1-acc1-cb06dca12e6d",
     "typedWidgetInfo": {
      "autoCreated": false,
      "defaultValue": "spn_client_id",
      "label": "",
      "name": "secret_key_client_id",
      "options": {
       "widgetDisplayType": "Text",
       "validationRegex": null
      },
      "parameterDataType": "String"
     },
     "widgetInfo": {
      "widgetType": "text",
      "defaultValue": "spn_client_id",
      "label": "",
      "name": "secret_key_client_id",
      "options": {
       "widgetType": "text",
       "autoCreated": false,
       "validationRegex": null
      }
     }
    },
    "secret_key_client_secret": {
     "currentValue": "spn_client_secret",
     "nuid": "d3da9495-2c3a-4a84-a7a7-34d6dbb64333",
     "typedWidgetInfo": {
      "autoCreated": false,
      "defaultValue": "spn_client_secret",
      "label": "",
      "name": "secret_key_client_secret",
      "options": {
       "widgetDisplayType": "Text",
       "validationRegex": null
      },
      "parameterDataType": "String"
     },
     "widgetInfo": {
      "widgetType": "text",
      "defaultValue": "spn_client_secret",
      "label": "",
      "name": "secret_key_client_secret",
      "options": {
       "widgetType": "text",
       "autoCreated": false,
       "validationRegex": null
      }
     }
    },
    "secret_scope": {
     "currentValue": "matthew-giglia",
     "nuid": "92cc7ec4-27a3-4bb8-88e3-f92d0766f797",
     "typedWidgetInfo": {
      "autoCreated": false,
      "defaultValue": "matthew-giglia",
      "label": "",
      "name": "secret_scope",
      "options": {
       "widgetDisplayType": "Text",
       "validationRegex": null
      },
      "parameterDataType": "String"
     },
     "widgetInfo": {
      "widgetType": "text",
      "defaultValue": "matthew-giglia",
      "label": "",
      "name": "secret_scope",
      "options": {
       "widgetType": "text",
       "autoCreated": false,
       "validationRegex": null
      }
     }
    },
    "workspace_url": {
     "currentValue": "https://e2-demo-field-eng.cloud.databricks.com",
     "nuid": "273566dc-70af-4081-8bcb-77dd606ffc6a",
     "typedWidgetInfo": {
      "autoCreated": false,
      "defaultValue": "https://e2-demo-field-eng.cloud.databricks.com",
      "label": "",
      "name": "workspace_url",
      "options": {
       "widgetDisplayType": "Text",
       "validationRegex": null
      },
      "parameterDataType": "String"
     },
     "widgetInfo": {
      "widgetType": "text",
      "defaultValue": "https://e2-demo-field-eng.cloud.databricks.com",
      "label": "",
      "name": "workspace_url",
      "options": {
       "widgetType": "text",
       "autoCreated": false,
       "validationRegex": null
      }
     }
    }
   }
  },
  "language_info": {
   "name": "sql"
  }
 },
 "nbformat": 4,
 "nbformat_minor": 0
}
