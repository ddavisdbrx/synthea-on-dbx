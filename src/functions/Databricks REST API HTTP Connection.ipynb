{
 "cells": [
  {
   "cell_type": "markdown",
   "metadata": {
    "application/vnd.databricks.v1+cell": {
     "cellMetadata": {},
     "inputWidgets": {},
     "nuid": "02b49efa-7b23-44f1-902d-f8e6d2cb62d9",
     "showTitle": false,
     "tableResultSettingsMap": {},
     "title": ""
    }
   },
   "source": [
    "_Note: This notebook requires DBR 16.2 or higher if executed against a classic compute cluster.  Databricks Serverless SQL Warehouse is preferred. Unity Catalog must be enabled with catalog and schema that the \"run as\" user has the ability to create and execute functions._"
   ]
  },
  {
   "cell_type": "code",
   "execution_count": 0,
   "metadata": {
    "application/vnd.databricks.v1+cell": {
     "cellMetadata": {
      "byteLimit": 2048000,
      "rowLimit": 10000
     },
     "inputWidgets": {},
     "nuid": "3175efce-f273-4e4a-81f3-05521ba84e94",
     "showTitle": false,
     "tableResultSettingsMap": {},
     "title": ""
    }
   },
   "outputs": [],
   "source": [
    "DECLARE OR REPLACE VARIABLE catalog_use STRING DEFAULT \"main\";\n",
    "DECLARE OR REPLACE VARIABLE schema_use STRING DEFAULT \"synthea\";\n",
    "DECLARE OR REPLACE VARIABLE secret_scope STRING DEFAULT REPLACE(SPLIT(current_user(), \"@\")[0], \".\", \"-\");\n",
    "DECLARE OR REPLACE VARIABLE secret_key STRING DEFAULT \"databricks_pat\";\n",
    "DECLARE OR REPLACE VARIABLE workspace_url STRING DEFAULT \"https://e2-demo-field-eng.cloud.databricks.com\";\n",
    "DECLARE OR REPLACE VARIABLE connection_name STRING DEFAULT \"databricks_rest_api\";"
   ]
  },
  {
   "cell_type": "code",
   "execution_count": 0,
   "metadata": {
    "application/vnd.databricks.v1+cell": {
     "cellMetadata": {
      "byteLimit": 2048000,
      "rowLimit": 10000
     },
     "inputWidgets": {},
     "nuid": "6fe7152f-9179-4898-a24b-75abeaf4bf0d",
     "showTitle": false,
     "tableResultSettingsMap": {},
     "title": ""
    }
   },
   "outputs": [],
   "source": [
    "SET VARIABLE catalog_use = :catalog_use;\n",
    "SET VARIABLE schema_use = :schema_use;\n",
    "SET VARIABLE secret_scope = :secret_scope;\n",
    "SET VARIABLE secret_key = :secret_key;\n",
    "SET VARIABLE workspace_url = :workspace_url;\n",
    "SET VARIABLE connection_name = :connection_name;"
   ]
  },
  {
   "cell_type": "code",
   "execution_count": 0,
   "metadata": {
    "application/vnd.databricks.v1+cell": {
     "cellMetadata": {
      "byteLimit": 2048000,
      "rowLimit": 10000
     },
     "inputWidgets": {},
     "nuid": "bf92a6a9-47c1-4e5f-808c-aa855baed034",
     "showTitle": false,
     "tableResultSettingsMap": {},
     "title": ""
    }
   },
   "outputs": [],
   "source": [
    "SELECT catalog_use, schema_use, secret_scope, secret_key, workspace_url, connection_name;"
   ]
  },
  {
   "cell_type": "code",
   "execution_count": 0,
   "metadata": {
    "application/vnd.databricks.v1+cell": {
     "cellMetadata": {
      "byteLimit": 2048000,
      "rowLimit": 10000
     },
     "inputWidgets": {},
     "nuid": "52258391-5945-4917-9cd6-32b784be5af3",
     "showTitle": false,
     "tableResultSettingsMap": {},
     "title": ""
    }
   },
   "outputs": [],
   "source": [
    "SELECT \n",
    "  CASE \n",
    "    WHEN isnull(try_secret(secret_scope, secret_key)) then \"Message: Secret not found.\\nPlease check that your Databricks PAT is stored in a Databricks secret with the correct secret_scope and secret_key, and that the secret_scope is accessable to the 'run_as' user of this notebook.\"\n",
    "    ELSE \"Secret for Databricks PAT is found and accessible to the 'run_as' user of this notebook.\\nIf the create connection fails further in the notebook please ensure that the PAT is not expired and that the 'run_as' user has the correct permissions in Unity Catalog.\"\n",
    "  END AS databricks_pat_secret_check\n",
    ";"
   ]
  },
  {
   "cell_type": "code",
   "execution_count": 0,
   "metadata": {
    "application/vnd.databricks.v1+cell": {
     "cellMetadata": {},
     "inputWidgets": {},
     "nuid": "770bf851-b459-495c-9ba9-a64f2cbc7470",
     "showTitle": false,
     "tableResultSettingsMap": {},
     "title": ""
    }
   },
   "outputs": [],
   "source": [
    "CREATE CONNECTION IF NOT EXISTS  TYPE HTTP \n",
    "OPTIONS (\n",
    "  host '<host_url>',\n",
    "  bearer_token '<access_token>',\n",
    "  port <port_number>,\n",
    "  base_path '<base_path>'\n",
    ") [COMMENT 'description_of_connection'];"
   ]
  },
  {
   "cell_type": "code",
   "execution_count": 0,
   "metadata": {
    "application/vnd.databricks.v1+cell": {
     "cellMetadata": {
      "byteLimit": 2048000,
      "rowLimit": 10000
     },
     "inputWidgets": {},
     "nuid": "f17fd29a-3dca-4686-83da-54df35add6f2",
     "showTitle": false,
     "tableResultSettingsMap": {},
     "title": ""
    }
   },
   "outputs": [],
   "source": [
    "USE IDENTIFIER(catalog_use || \".\" || schema_use);"
   ]
  },
  {
   "cell_type": "code",
   "execution_count": 0,
   "metadata": {
    "application/vnd.databricks.v1+cell": {
     "cellMetadata": {
      "byteLimit": 2048000,
      "rowLimit": 10000
     },
     "inputWidgets": {},
     "nuid": "378db9e7-1122-40f4-ba3b-340cccbf8893",
     "showTitle": false,
     "tableResultSettingsMap": {},
     "title": ""
    }
   },
   "outputs": [],
   "source": [
    "SELECT current_catalog(), current_schema();"
   ]
  },
  {
   "cell_type": "code",
   "execution_count": 0,
   "metadata": {
    "application/vnd.databricks.v1+cell": {
     "cellMetadata": {},
     "inputWidgets": {},
     "nuid": "26c95035-d817-4c04-8dc1-632375312238",
     "showTitle": false,
     "tableResultSettingsMap": {},
     "title": ""
    }
   },
   "outputs": [],
   "source": []
  }
 ],
 "metadata": {
  "application/vnd.databricks.v1+notebook": {
   "computePreferences": null,
   "dashboards": [],
   "environmentMetadata": {
    "base_environment": "",
    "environment_version": "2"
   },
   "inputWidgetPreferences": null,
   "language": "sql",
   "notebookMetadata": {
    "pythonIndentUnit": 2
   },
   "notebookName": "Databricks REST API HTTP Connection",
   "widgets": {
    "catalog_use": {
     "currentValue": "mgiglia",
     "nuid": "fc347003-a8fd-41a8-b906-01d5eb837a77",
     "typedWidgetInfo": {
      "autoCreated": false,
      "defaultValue": "main",
      "label": "",
      "name": "catalog_use",
      "options": {
       "widgetDisplayType": "Text",
       "validationRegex": null
      },
      "parameterDataType": "String"
     },
     "widgetInfo": {
      "widgetType": "text",
      "defaultValue": "main",
      "label": "",
      "name": "catalog_use",
      "options": {
       "widgetType": "text",
       "autoCreated": false,
       "validationRegex": null
      }
     }
    },
    "connection_name": {
     "currentValue": "databricks_rest_api_mgiglia",
     "nuid": "e5677268-f264-469a-a2a5-2212a837bd41",
     "typedWidgetInfo": {
      "autoCreated": false,
      "defaultValue": "databricks_rest_api",
      "label": "",
      "name": "connection_name",
      "options": {
       "widgetDisplayType": "Text",
       "validationRegex": null
      },
      "parameterDataType": "String"
     },
     "widgetInfo": {
      "widgetType": "text",
      "defaultValue": "databricks_rest_api",
      "label": "",
      "name": "connection_name",
      "options": {
       "widgetType": "text",
       "autoCreated": false,
       "validationRegex": null
      }
     }
    },
    "schema_use": {
     "currentValue": "synthea",
     "nuid": "d7c8f91c-9339-43bd-8e8d-9d02a6fd8d88",
     "typedWidgetInfo": {
      "autoCreated": false,
      "defaultValue": "synthea",
      "label": "",
      "name": "schema_use",
      "options": {
       "widgetDisplayType": "Text",
       "validationRegex": null
      },
      "parameterDataType": "String"
     },
     "widgetInfo": {
      "widgetType": "text",
      "defaultValue": "synthea",
      "label": "",
      "name": "schema_use",
      "options": {
       "widgetType": "text",
       "autoCreated": false,
       "validationRegex": null
      }
     }
    },
    "secret_key": {
     "currentValue": "databricks_pat",
     "nuid": "9a18f889-5a6c-42ea-806f-aeb25d8826cb",
     "typedWidgetInfo": {
      "autoCreated": false,
      "defaultValue": "databricks_pat",
      "label": "",
      "name": "secret_key",
      "options": {
       "widgetDisplayType": "Text",
       "validationRegex": null
      },
      "parameterDataType": "String"
     },
     "widgetInfo": {
      "widgetType": "text",
      "defaultValue": "databricks_pat",
      "label": "",
      "name": "secret_key",
      "options": {
       "widgetType": "text",
       "autoCreated": false,
       "validationRegex": null
      }
     }
    },
    "secret_scope": {
     "currentValue": "matthew-giglia",
     "nuid": "43041268-0785-4e02-a8d8-a4bd867d454c",
     "typedWidgetInfo": {
      "autoCreated": false,
      "defaultValue": "matthew_giglia",
      "label": "",
      "name": "secret_scope",
      "options": {
       "widgetDisplayType": "Text",
       "validationRegex": null
      },
      "parameterDataType": "String"
     },
     "widgetInfo": {
      "widgetType": "text",
      "defaultValue": "matthew_giglia",
      "label": "",
      "name": "secret_scope",
      "options": {
       "widgetType": "text",
       "autoCreated": false,
       "validationRegex": null
      }
     }
    },
    "workspace_url": {
     "currentValue": "https://e2-demo-field-eng.cloud.databricks.com",
     "nuid": "273566dc-70af-4081-8bcb-77dd606ffc6a",
     "typedWidgetInfo": {
      "autoCreated": false,
      "defaultValue": "https://e2-demo-field-eng.cloud.databricks.com",
      "label": "",
      "name": "workspace_url",
      "options": {
       "widgetDisplayType": "Text",
       "validationRegex": null
      },
      "parameterDataType": "String"
     },
     "widgetInfo": {
      "widgetType": "text",
      "defaultValue": "https://e2-demo-field-eng.cloud.databricks.com",
      "label": "",
      "name": "workspace_url",
      "options": {
       "widgetType": "text",
       "autoCreated": false,
       "validationRegex": null
      }
     }
    }
   }
  },
  "language_info": {
   "name": "sql"
  }
 },
 "nbformat": 4,
 "nbformat_minor": 0
}
