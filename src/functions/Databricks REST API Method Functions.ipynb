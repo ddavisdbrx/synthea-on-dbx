{
 "cells": [
  {
   "cell_type": "code",
   "execution_count": 0,
   "metadata": {
    "application/vnd.databricks.v1+cell": {
     "cellMetadata": {
      "byteLimit": 2048000,
      "rowLimit": 10000
     },
     "inputWidgets": {},
     "nuid": "a0684bca-2949-4c01-838f-4ef79196ec30",
     "showTitle": false,
     "tableResultSettingsMap": {},
     "title": ""
    }
   },
   "outputs": [],
   "source": [
    "DECLARE OR REPLACE VARIABLE catalog_use = 'main';\n",
    "DECLARE OR REPLACE VARIABLE schema_use = 'synthea';\n",
    "DECLARE OR REPLACE VARIABLE connection_name STRING DEFAULT \"databricks_rest_api\";"
   ]
  },
  {
   "cell_type": "code",
   "execution_count": 0,
   "metadata": {
    "application/vnd.databricks.v1+cell": {
     "cellMetadata": {
      "byteLimit": 2048000,
      "rowLimit": 10000
     },
     "inputWidgets": {},
     "nuid": "8487279c-cebd-4dd2-bb22-ad62f2996a3a",
     "showTitle": false,
     "tableResultSettingsMap": {},
     "title": ""
    }
   },
   "outputs": [],
   "source": [
    "SET VARIABLE catalog_use = :catalog_use;\n",
    "SET VARIABLE schema_use = :schema_use; \n",
    "SET VARIABLE connection_name = :connection_name;"
   ]
  },
  {
   "cell_type": "code",
   "execution_count": 0,
   "metadata": {
    "application/vnd.databricks.v1+cell": {
     "cellMetadata": {
      "byteLimit": 2048000,
      "rowLimit": 10000
     },
     "inputWidgets": {},
     "nuid": "4bad4646-30a8-48bd-a1cb-50839394c5e6",
     "showTitle": false,
     "tableResultSettingsMap": {},
     "title": ""
    }
   },
   "outputs": [],
   "source": [
    "USE IDENTIFIER(catalog_use || '.' || schema_use);\n",
    "SELECT current_catalog(), current_schema();"
   ]
  },
  {
   "cell_type": "code",
   "execution_count": 0,
   "metadata": {
    "application/vnd.databricks.v1+cell": {
     "cellMetadata": {
      "byteLimit": 2048000,
      "rowLimit": 10000
     },
     "inputWidgets": {},
     "nuid": "9ab49f50-0b9e-47ac-84ed-5ee4f3896364",
     "showTitle": false,
     "tableResultSettingsMap": {},
     "title": ""
    }
   },
   "outputs": [],
   "source": [
    "SELECT\n",
    "  parse_json(\n",
    "    http_request(\n",
    "      conn => \"databricks_rest_api_mgiglia\"\n",
    "      ,method => 'GET'\n",
    "      ,path => concat('/2.1/unity-catalog/', 'tables', '?catalog_name=mgiglia&schema_name=synthea')\n",
    "      -- ,json => to_json(body)\n",
    "    ).text\n",
    "  ) as resp_variant"
   ]
  },
  {
   "cell_type": "code",
   "execution_count": 0,
   "metadata": {
    "application/vnd.databricks.v1+cell": {
     "cellMetadata": {
      "byteLimit": 2048000,
      "rowLimit": 10000
     },
     "inputWidgets": {},
     "nuid": "ec1eb14b-7530-45bc-ab34-2893363a1635",
     "showTitle": false,
     "tableResultSettingsMap": {},
     "title": ""
    }
   },
   "outputs": [],
   "source": [
    "DECLARE OR REPLACE VARIABLE databricks_rest_get_function_stmnt STRING DEFAULT (\"\n",
    "  CREATE OR REPLACE FUNCTION databricks_rest_get(\n",
    "  endpoint STRING COMMENT 'The Databricks REST API Endpoint to connect to such as /2.1/unity-catalog to interact with the Unity Catalog API.'\n",
    "  ,resource STRING COMMENT \\\"The endpoint's asset or service to perform actions against such as Tables, Catalogs, Artifact Allow Lists, etc. with the Unity Catalog endpoint.\\\"\n",
    "  ,path_parameters ARRAY<STRING> COMMENT 'An array of path parameters to append to the API resource url if applicable.'\n",
    "  ,query_parameters ARRAY<STRING> COMMENT 'An array of query parameters to apply to the endpoint URL if applicable.'\n",
    "  ,body VARIANT COMMENT 'The JSON body of the request to send to the API as a struct, if applicable.'\n",
    ")\n",
    "RETURNS VARIANT\n",
    "COMMENT 'A function to interact with the Databricks REST API for GET requests.'\n",
    "LANGUAGE SQL\n",
    "RETURN \n",
    "SELECT\n",
    "  parse_json(\n",
    "    http_request(\n",
    "      conn => '\" || connection_name ||\"'\n",
    "      ,method => 'GET'\n",
    "      ,path => CASE when path_parameters IS NULL and query_parameters IS NULL THEN concat(endpoint, '/', resource)\n",
    "                    when path_parameters IS NULL and query_parameters IS NOT NULL THEN concat(endpoint, '/', resource, '?', array_join(query_parameters, '&')) \n",
    "                    when path_parameters IS NOT NULL and query_parameters IS NULL THEN concat(endpoint, '/', resource, '/', array_join(path_parameters, '/'))\n",
    "                    ELSE concat(endpoint, '/', resource, '/', array_join(path_parameters, '/'), '?', array_join(query_parameters, '&')) END\n",
    "      ,json => CASE when body IS NULL THEN NULL else to_json(body) END\n",
    "    ).text\n",
    "  ) as resp_variant\n",
    ";\");\n",
    "\n",
    "SELECT databricks_rest_get_function_stmnt;"
   ]
  },
  {
   "cell_type": "code",
   "execution_count": 0,
   "metadata": {
    "application/vnd.databricks.v1+cell": {
     "cellMetadata": {
      "byteLimit": 2048000,
      "rowLimit": 10000
     },
     "inputWidgets": {},
     "nuid": "99d55db6-cf36-4be3-9b9d-dec1fe819897",
     "showTitle": false,
     "tableResultSettingsMap": {},
     "title": ""
    }
   },
   "outputs": [],
   "source": [
    "EXECUTE IMMEDIATE databricks_rest_get_function_stmnt;"
   ]
  },
  {
   "cell_type": "code",
   "execution_count": 0,
   "metadata": {
    "application/vnd.databricks.v1+cell": {
     "cellMetadata": {
      "byteLimit": 2048000,
      "rowLimit": 10000
     },
     "inputWidgets": {},
     "nuid": "8a94f6a1-c7e4-4554-bbb0-dfc5874ad2f6",
     "showTitle": false,
     "tableResultSettingsMap": {},
     "title": ""
    }
   },
   "outputs": [],
   "source": [
    "SELECT\n",
    "  databricks_rest_get(\n",
    "    endpoint => '/2.1/unity-catalog'\n",
    "    ,resource => 'tables'\n",
    "    ,path_parameters => NULL\n",
    "    ,query_parameters => array('catalog_name=mgiglia', 'schema_name=synthea')\n",
    "    ,body => NULL\n",
    "  )"
   ]
  },
  {
   "cell_type": "code",
   "execution_count": 0,
   "metadata": {
    "application/vnd.databricks.v1+cell": {
     "cellMetadata": {
      "byteLimit": 2048000,
      "rowLimit": 10000
     },
     "inputWidgets": {},
     "nuid": "72a87fd3-4026-470d-9660-bbc57dd6a21b",
     "showTitle": false,
     "tableResultSettingsMap": {},
     "title": ""
    }
   },
   "outputs": [],
   "source": [
    "DECLARE OR REPLACE VARIABLE databricks_rest_put_function_stmnt STRING DEFAULT (\"\n",
    "  CREATE OR REPLACE FUNCTION databricks_rest_put(\n",
    "  endpoint STRING COMMENT 'The Databricks REST API Endpoint to connect to such as /2.1/unity-catalog to interact with the Unity Catalog API.'\n",
    "  ,resource STRING COMMENT \\\"The endpoint's asset or service to perform actions against such as Tables, Catalogs, Artifact Allow Lists, etc. with the Unity Catalog endpoint.\\\"\n",
    "  ,path_parameters ARRAY<STRING> COMMENT 'An array of path parameters to append to the API resource url if applicable.'\n",
    "  ,query_parameters ARRAY<STRING> COMMENT 'An array of query parameters to apply to the endpoint URL if applicable.'\n",
    "  ,body VARIANT COMMENT 'The JSON body of the request to send to the API as a struct, if applicable.'\n",
    ")\n",
    "RETURNS VARIANT\n",
    "COMMENT 'A function to interact with the Databricks REST API for PUT requests.'\n",
    "LANGUAGE SQL\n",
    "RETURN \n",
    "SELECT\n",
    "  parse_json(\n",
    "    http_request(\n",
    "      conn => '\" || connection_name ||\"'\n",
    "      ,method => 'PUT'\n",
    "      ,path => CASE when path_parameters IS NULL and query_parameters IS NULL THEN concat(endpoint, '/', resource)\n",
    "                    when path_parameters IS NULL and query_parameters IS NOT NULL THEN concat(endpoint, '/', resource, '?', array_join(query_parameters, '&')) \n",
    "                    when path_parameters IS NOT NULL and query_parameters IS NULL THEN concat(endpoint, '/', resource, '/', array_join(path_parameters, '/'))\n",
    "                    ELSE concat(endpoint, '/', resource, '/', array_join(path_parameters, '/'), '?', array_join(query_parameters, '&')) END\n",
    "      ,json => CASE when body IS NULL THEN NULL else to_json(body) END\n",
    "    ).text\n",
    "  ) as resp_variant\n",
    ";\");\n",
    "\n",
    "SELECT databricks_rest_put_function_stmnt;"
   ]
  },
  {
   "cell_type": "code",
   "execution_count": 0,
   "metadata": {
    "application/vnd.databricks.v1+cell": {
     "cellMetadata": {
      "byteLimit": 2048000,
      "rowLimit": 10000
     },
     "inputWidgets": {},
     "nuid": "fb9a8ef5-6d7c-44d7-ab7c-1e87cc873f68",
     "showTitle": false,
     "tableResultSettingsMap": {},
     "title": ""
    }
   },
   "outputs": [],
   "source": [
    "EXECUTE IMMEDIATE databricks_rest_put_function_stmnt;"
   ]
  },
  {
   "cell_type": "code",
   "execution_count": 0,
   "metadata": {
    "application/vnd.databricks.v1+cell": {
     "cellMetadata": {
      "byteLimit": 2048000,
      "rowLimit": 10000
     },
     "inputWidgets": {},
     "nuid": "caf48bac-cc20-4e71-b54a-7c604eca56d6",
     "showTitle": false,
     "tableResultSettingsMap": {},
     "title": ""
    }
   },
   "outputs": [],
   "source": [
    "DECLARE OR REPLACE VARIABLE databricks_rest_patch_function_stmnt STRING DEFAULT (\"\n",
    "  CREATE OR REPLACE FUNCTION databricks_rest_patch(\n",
    "  endpoint STRING COMMENT 'The Databricks REST API Endpoint to connect to such as /2.1/unity-catalog to interact with the Unity Catalog API.'\n",
    "  ,resource STRING COMMENT \\\"The endpoint's asset or service to perform actions against such as Tables, Catalogs, Artifact Allow Lists, etc. with the Unity Catalog endpoint.\\\"\n",
    "  ,path_parameters ARRAY<STRING> COMMENT 'An array of path parameters to append to the API resource url if applicable.'\n",
    "  ,query_parameters ARRAY<STRING> COMMENT 'An array of query parameters to apply to the endpoint URL if applicable.'\n",
    "  ,body VARIANT COMMENT 'The JSON body of the request to send to the API as a struct, if applicable.'\n",
    ")\n",
    "RETURNS VARIANT\n",
    "COMMENT 'A function to interact with the Databricks REST API for PATCH requests.'\n",
    "LANGUAGE SQL\n",
    "RETURN \n",
    "SELECT\n",
    "  parse_json(\n",
    "    http_request(\n",
    "      conn => '\" || connection_name ||\"'\n",
    "      ,method => 'PATCH'\n",
    "      ,path => CASE when path_parameters IS NULL and query_parameters IS NULL THEN concat(endpoint, '/', resource)\n",
    "                    when path_parameters IS NULL and query_parameters IS NOT NULL THEN concat(endpoint, '/', resource, '?', array_join(query_parameters, '&')) \n",
    "                    when path_parameters IS NOT NULL and query_parameters IS NULL THEN concat(endpoint, '/', resource, '/', array_join(path_parameters, '/'))\n",
    "                    ELSE concat(endpoint, '/', resource, '/', array_join(path_parameters, '/'), '?', array_join(query_parameters, '&')) END\n",
    "      ,json => CASE when body IS NULL THEN NULL else to_json(body) END\n",
    "    ).text\n",
    "  ) as resp_variant\n",
    ";\");\n",
    "\n",
    "SELECT databricks_rest_patch_function_stmnt;"
   ]
  },
  {
   "cell_type": "code",
   "execution_count": 0,
   "metadata": {
    "application/vnd.databricks.v1+cell": {
     "cellMetadata": {
      "byteLimit": 2048000,
      "rowLimit": 10000
     },
     "inputWidgets": {},
     "nuid": "7893bbf2-c74d-4152-8074-c8e6fb970da2",
     "showTitle": false,
     "tableResultSettingsMap": {},
     "title": ""
    }
   },
   "outputs": [],
   "source": [
    "EXECUTE IMMEDIATE databricks_rest_patch_function_stmnt;"
   ]
  },
  {
   "cell_type": "code",
   "execution_count": 0,
   "metadata": {
    "application/vnd.databricks.v1+cell": {
     "cellMetadata": {
      "byteLimit": 2048000,
      "rowLimit": 10000
     },
     "inputWidgets": {},
     "nuid": "6e93bddb-ad95-4e13-b791-e21cfa5dedc0",
     "showTitle": false,
     "tableResultSettingsMap": {},
     "title": ""
    }
   },
   "outputs": [],
   "source": [
    "DECLARE OR REPLACE VARIABLE databricks_rest_post_function_stmnt STRING DEFAULT (\"\n",
    "  CREATE OR REPLACE FUNCTION databricks_rest_post(\n",
    "  endpoint STRING COMMENT 'The Databricks REST API Endpoint to connect to such as /2.1/unity-catalog to interact with the Unity Catalog API.'\n",
    "  ,resource STRING COMMENT \\\"The endpoint's asset or service to perform actions against such as Tables, Catalogs, Artifact Allow Lists, etc. with the Unity Catalog endpoint.\\\"\n",
    "  ,path_parameters ARRAY<STRING> COMMENT 'An array of path parameters to append to the API resource url if applicable.'\n",
    "  ,query_parameters ARRAY<STRING> COMMENT 'An array of query parameters to apply to the endpoint URL if applicable.'\n",
    "  ,body VARIANT COMMENT 'The JSON body of the request to send to the API as a struct, if applicable.'\n",
    ")\n",
    "RETURNS VARIANT\n",
    "COMMENT 'A function to interact with the Databricks REST API for POST requests.'\n",
    "LANGUAGE SQL\n",
    "RETURN \n",
    "SELECT\n",
    "  parse_json(\n",
    "    http_request(\n",
    "      conn => '\" || connection_name ||\"'\n",
    "      ,method => 'POST'\n",
    "      ,path => CASE when path_parameters IS NULL and query_parameters IS NULL THEN concat(endpoint, '/', resource)\n",
    "                    when path_parameters IS NULL and query_parameters IS NOT NULL THEN concat(endpoint, '/', resource, '?', array_join(query_parameters, '&')) \n",
    "                    when path_parameters IS NOT NULL and query_parameters IS NULL THEN concat(endpoint, '/', resource, '/', array_join(path_parameters, '/'))\n",
    "                    ELSE concat(endpoint, '/', resource, '/', array_join(path_parameters, '/'), '?', array_join(query_parameters, '&')) END\n",
    "      ,json => CASE when body IS NULL THEN NULL else to_json(body) END\n",
    "    ).text\n",
    "  ) as resp_variant\n",
    ";\");\n",
    "\n",
    "SELECT databricks_rest_post_function_stmnt;"
   ]
  },
  {
   "cell_type": "code",
   "execution_count": 0,
   "metadata": {
    "application/vnd.databricks.v1+cell": {
     "cellMetadata": {
      "byteLimit": 2048000,
      "rowLimit": 10000
     },
     "inputWidgets": {},
     "nuid": "ccde5785-1ee2-466a-8626-9da24ecfc722",
     "showTitle": false,
     "tableResultSettingsMap": {},
     "title": ""
    }
   },
   "outputs": [],
   "source": [
    "EXECUTE IMMEDIATE databricks_rest_post_function_stmnt;"
   ]
  },
  {
   "cell_type": "code",
   "execution_count": 0,
   "metadata": {
    "application/vnd.databricks.v1+cell": {
     "cellMetadata": {
      "byteLimit": 2048000,
      "rowLimit": 10000
     },
     "inputWidgets": {},
     "nuid": "f4972e3b-f4e9-4903-8b82-4240e7ac787e",
     "showTitle": false,
     "tableResultSettingsMap": {},
     "title": ""
    }
   },
   "outputs": [],
   "source": [
    "DECLARE OR REPLACE VARIABLE databricks_rest_delete_function_stmnt STRING DEFAULT (\"\n",
    "  CREATE OR REPLACE FUNCTION databricks_rest_delete(\n",
    "  endpoint STRING COMMENT 'The Databricks REST API Endpoint to connect to such as /2.1/unity-catalog to interact with the Unity Catalog API.'\n",
    "  ,resource STRING COMMENT \\\"The endpoint's asset or service to perform actions against such as Tables, Catalogs, Artifact Allow Lists, etc. with the Unity Catalog endpoint.\\\"\n",
    "  ,path_parameters ARRAY<STRING> COMMENT 'An array of path parameters to append to the API resource url if applicable.'\n",
    "  ,query_parameters ARRAY<STRING> COMMENT 'An array of query parameters to apply to the endpoint URL if applicable.'\n",
    "  ,body VARIANT COMMENT 'The JSON body of the request to send to the API as a struct, if applicable.'\n",
    ")\n",
    "RETURNS VARIANT\n",
    "COMMENT 'A function to interact with the Databricks REST API for DELETE requests.'\n",
    "LANGUAGE SQL\n",
    "RETURN \n",
    "SELECT\n",
    "  parse_json(\n",
    "    http_request(\n",
    "      conn => '\" || connection_name ||\"'\n",
    "      ,method => 'DELETE'\n",
    "      ,path => CASE when path_parameters IS NULL and query_parameters IS NULL THEN concat(endpoint, '/', resource)\n",
    "                    when path_parameters IS NULL and query_parameters IS NOT NULL THEN concat(endpoint, '/', resource, '?', array_join(query_parameters, '&')) \n",
    "                    when path_parameters IS NOT NULL and query_parameters IS NULL THEN concat(endpoint, '/', resource, '/', array_join(path_parameters, '/'))\n",
    "                    ELSE concat(endpoint, '/', resource, '/', array_join(path_parameters, '/'), '?', array_join(query_parameters, '&')) END\n",
    "      ,json => CASE when body IS NULL THEN NULL else to_json(body) END\n",
    "    ).text\n",
    "  ) as resp_variant\n",
    ";\");\n",
    "\n",
    "SELECT databricks_rest_delete_function_stmnt;"
   ]
  },
  {
   "cell_type": "code",
   "execution_count": 0,
   "metadata": {
    "application/vnd.databricks.v1+cell": {
     "cellMetadata": {
      "byteLimit": 2048000,
      "rowLimit": 10000
     },
     "inputWidgets": {},
     "nuid": "8d9b8e67-7499-4b14-9ecc-e899098eff19",
     "showTitle": false,
     "tableResultSettingsMap": {},
     "title": ""
    }
   },
   "outputs": [],
   "source": [
    "EXECUTE IMMEDIATE databricks_rest_delete_function_stmnt;"
   ]
  },
  {
   "cell_type": "code",
   "execution_count": 0,
   "metadata": {
    "application/vnd.databricks.v1+cell": {
     "cellMetadata": {
      "byteLimit": 2048000,
      "rowLimit": 10000
     },
     "inputWidgets": {},
     "nuid": "50a90eb5-bef7-4f4a-9ee7-c8fa980567e7",
     "showTitle": false,
     "tableResultSettingsMap": {},
     "title": ""
    }
   },
   "outputs": [],
   "source": [
    "CREATE OR REPLACE FUNCTION databricks_rest_unity_catalog(\n",
    "  conn STRING COMMENT 'The name of the Unity Catalog HTTP Connection for the Databricks REST API.'\n",
    "  ,method STRING DEFAULT 'GET' COMMENT 'The HTTP Method to use for the request to the Unity Catalog API.'\n",
    "  ,resource STRING COMMENT \"The Unity Catalog API asset or service to perform actions against such as 'Tables', 'Catalogs', 'Artifact Allow Lists', etc.\"\n",
    "  ,path_parameters ARRAY<STRING> COMMENT \"An array of path parameters to append to the Unity Catalog API resource url if applicable.\"\n",
    "  ,query_parameters ARRAY<STRING> COMMENT \"An array of query parameters to apply to the endpoint URL.\"\n",
    "  ,body STRING COMMENT \"The JSON body of the request to send to the Unity Catalog API as a string.\"\n",
    ")\n",
    "RETURNS VARIANT\n",
    "COMMENT 'A function to perform actions against the Unity Catalog Databricks REST API.'\n",
    "LANGUAGE SQL\n",
    "RETURN (\n",
    "  SELECT\n",
    "    parse_json(\n",
    "      http_request(\n",
    "        conn => conn\n",
    "        ,method => method\n",
    "        ,path => CASE when path_parameters IS NULL and query_parameters IS NULL THEN concat('/2.1/unity-catalog/', resource)\n",
    "                      when path_parameters IS NULL and query_parameters IS NOT NULL THEN concat('/2.1/unity-catalog/', resource, '?', array_join(query_parameters, '&')) \n",
    "                      when path_parameters IS NOT NULL and query_parameters IS NULL THEN concat('/2.1/unity-catalog/', resource, '/', array_join(path_parameters, '/'))\n",
    "                      ELSE concat('/2.1/unity-catalog/', resource, '/', array_join(path_parameters, '/'), '?', array_join(query_parameters, '&')) END\n",
    "        ,json => CASE when body IS NULL THEN NULL else to_json(body) END\n",
    "      ).text\n",
    "    ) as resp_variant\n",
    ")"
   ]
  }
 ],
 "metadata": {
  "application/vnd.databricks.v1+notebook": {
   "computePreferences": null,
   "dashboards": [],
   "environmentMetadata": {
    "base_environment": "",
    "environment_version": "2"
   },
   "inputWidgetPreferences": null,
   "language": "sql",
   "notebookMetadata": {
    "pythonIndentUnit": 2
   },
   "notebookName": "Databricks REST API Method Functions",
   "widgets": {
    "catalog_use": {
     "currentValue": "mgiglia",
     "nuid": "f1861322-cbb8-44f2-accd-d320b466851b",
     "typedWidgetInfo": {
      "autoCreated": false,
      "defaultValue": "main",
      "label": "",
      "name": "catalog_use",
      "options": {
       "widgetDisplayType": "Text",
       "validationRegex": null
      },
      "parameterDataType": "String"
     },
     "widgetInfo": {
      "widgetType": "text",
      "defaultValue": "main",
      "label": "",
      "name": "catalog_use",
      "options": {
       "widgetType": "text",
       "autoCreated": false,
       "validationRegex": null
      }
     }
    },
    "connection_name": {
     "currentValue": "databricks_rest_api_mgiglia",
     "nuid": "3ced9238-bee1-406d-ac47-5c818ecd51b3",
     "typedWidgetInfo": {
      "autoCreated": false,
      "defaultValue": "databricks_rest_api",
      "label": "",
      "name": "connection_name",
      "options": {
       "widgetDisplayType": "Text",
       "validationRegex": null
      },
      "parameterDataType": "String"
     },
     "widgetInfo": {
      "widgetType": "text",
      "defaultValue": "databricks_rest_api",
      "label": "",
      "name": "connection_name",
      "options": {
       "widgetType": "text",
       "autoCreated": false,
       "validationRegex": null
      }
     }
    },
    "schema_use": {
     "currentValue": "synthea",
     "nuid": "75fc9d9e-6208-4d38-bd55-b0344b9722ec",
     "typedWidgetInfo": {
      "autoCreated": false,
      "defaultValue": "synthea",
      "label": "",
      "name": "schema_use",
      "options": {
       "widgetDisplayType": "Text",
       "validationRegex": null
      },
      "parameterDataType": "String"
     },
     "widgetInfo": {
      "widgetType": "text",
      "defaultValue": "synthea",
      "label": "",
      "name": "schema_use",
      "options": {
       "widgetType": "text",
       "autoCreated": false,
       "validationRegex": null
      }
     }
    }
   }
  },
  "language_info": {
   "name": "sql"
  }
 },
 "nbformat": 4,
 "nbformat_minor": 0
}
