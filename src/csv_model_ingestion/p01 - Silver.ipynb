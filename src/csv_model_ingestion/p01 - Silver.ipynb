{
 "cells": [
  {
   "cell_type": "code",
   "execution_count": 0,
   "metadata": {
    "application/vnd.databricks.v1+cell": {
     "cellMetadata": {
      "byteLimit": 2048000,
      "rowLimit": 10000
     },
     "inputWidgets": {},
     "nuid": "23c98286-110c-4423-adda-ad8166cc73cd",
     "showTitle": false,
     "tableResultSettingsMap": {},
     "title": ""
    }
   },
   "outputs": [],
   "source": [
    "DECLARE OR REPLACE VARIABLE catalog_name STRING DEFAULT \"mgiglia\";\n",
    "DECLARE OR REPLACE VARIABLE schema_name STRING DEFAULT \"synthea\";\n",
    "DECLARE OR REPLACE VARIABLE full_refresh BOOLEAN DEFAULT false;\n",
    "DECLARE OR REPLACE VARIABLE table_name STRING DEFAULT \"patients\";"
   ]
  },
  {
   "cell_type": "code",
   "execution_count": 0,
   "metadata": {
    "application/vnd.databricks.v1+cell": {
     "cellMetadata": {
      "byteLimit": 2048000,
      "rowLimit": 10000
     },
     "inputWidgets": {},
     "nuid": "b19026bf-5c21-4919-b7e7-59ccf07218b1",
     "showTitle": false,
     "tableResultSettingsMap": {},
     "title": ""
    }
   },
   "outputs": [],
   "source": [
    "SET VARIABLE catalog_name = :catalog_name; \n",
    "SET VARIABLE schema_name = :schema_name;\n",
    "SET VARIABLE full_refresh = CASE WHEN :full_refresh = 'true' THEN true ELSE false END;  \n",
    "SET VARIABLE table_name = :table_name; "
   ]
  },
  {
   "cell_type": "code",
   "execution_count": 0,
   "metadata": {
    "application/vnd.databricks.v1+cell": {
     "cellMetadata": {
      "byteLimit": 2048000,
      "rowLimit": 10000
     },
     "inputWidgets": {},
     "nuid": "de9c5149-7561-451c-bb6b-9aa57e2978bd",
     "showTitle": false,
     "tableResultSettingsMap": {},
     "title": ""
    }
   },
   "outputs": [],
   "source": [
    "select catalog_name, schema_name, full_refresh, table_name;"
   ]
  },
  {
   "cell_type": "code",
   "execution_count": 0,
   "metadata": {
    "application/vnd.databricks.v1+cell": {
     "cellMetadata": {
      "byteLimit": 2048000,
      "rowLimit": 10000
     },
     "inputWidgets": {},
     "nuid": "b5afef6c-6884-45bc-8c10-3e8740a7d156",
     "showTitle": false,
     "tableResultSettingsMap": {},
     "title": ""
    }
   },
   "outputs": [],
   "source": [
    "USE IDENTIFIER(catalog_name || \".\" || schema_name);"
   ]
  },
  {
   "cell_type": "code",
   "execution_count": 0,
   "metadata": {
    "application/vnd.databricks.v1+cell": {
     "cellMetadata": {
      "byteLimit": 2048000,
      "rowLimit": 10000
     },
     "inputWidgets": {},
     "nuid": "61dc6b60-0bec-43bc-a6c8-80a2e6a7871a",
     "showTitle": false,
     "tableResultSettingsMap": {},
     "title": ""
    }
   },
   "outputs": [],
   "source": [
    "SELECT current_catalog(), current_schema();"
   ]
  },
  {
   "cell_type": "code",
   "execution_count": 0,
   "metadata": {
    "application/vnd.databricks.v1+cell": {
     "cellMetadata": {
      "byteLimit": 2048000,
      "rowLimit": 10000
     },
     "inputWidgets": {},
     "nuid": "d22b3c3f-9d1e-45df-a172-bc415e013bbd",
     "showTitle": false,
     "tableResultSettingsMap": {},
     "title": ""
    }
   },
   "outputs": [],
   "source": [
    "DECLARE OR REPLACE VARIABLE full_refresh_stmnt STRING; \n",
    "\n",
    "SET VARIABLE full_refresh_stmnt = CASE \n",
    "  WHEN full_refresh = true THEN \"DROP TABLE IF EXISTS \" || table_name || \";\"\n",
    "  ELSE \"SELECT 'Performing Standard Refresh of \" || table_name || \".' AS message;\" \n",
    "END;\n",
    "\n",
    "SELECT full_refresh_stmnt;"
   ]
  },
  {
   "cell_type": "code",
   "execution_count": 0,
   "metadata": {
    "application/vnd.databricks.v1+cell": {
     "cellMetadata": {
      "byteLimit": 2048000,
      "rowLimit": 10000
     },
     "inputWidgets": {},
     "nuid": "5cd754b7-4ed4-45ef-985c-882a2cb774f8",
     "showTitle": false,
     "tableResultSettingsMap": {},
     "title": ""
    }
   },
   "outputs": [],
   "source": [
    "EXECUTE IMMEDIATE full_refresh_stmnt;"
   ]
  },
  {
   "cell_type": "code",
   "execution_count": 0,
   "metadata": {
    "application/vnd.databricks.v1+cell": {
     "cellMetadata": {
      "byteLimit": 2048000,
      "rowLimit": 10000
     },
     "inputWidgets": {},
     "nuid": "31378d4b-b388-45bb-934b-7063367dd3c5",
     "showTitle": false,
     "tableResultSettingsMap": {},
     "title": ""
    }
   },
   "outputs": [],
   "source": [
    "DECLARE OR REPLACE VARIABLE table_specification STRING;\n",
    "DECLARE OR REPLACE VARIABLE table_clauses STRING;\n",
    "DECLARE OR REPLACE VARIABLE table_select STRING;\n",
    "DECLARE OR REPLACE VARIABLE table_keys STRING;\n",
    "DECLARE OR REPLACE VARIABLE table_sequence_by STRING;\n",
    "DECLARE OR REPLACE VARIABLE table_stored_as STRING;\n",
    "\n",
    "SET VARIABLE table_specification = (SELECT ddl.specification from table_specifications where name = table_name);\n",
    "SET VARIABLE table_clauses = (SELECT ddl.clauses from table_specifications where name = table_name);\n",
    "SET VARIABLE table_select = (SELECT as_select from table_specifications where name = table_name);\n",
    "SET VARIABLE table_keys = (SELECT pkeys from table_specifications where name = table_name);\n",
    "SET VARIABLE table_sequence_by = (SELECT sequence_by from table_specifications where name = table_name);\n",
    "SET VARIABLE table_stored_as = (SELECT stored_as from table_specifications where name = table_name);"
   ]
  },
  {
   "cell_type": "code",
   "execution_count": 0,
   "metadata": {
    "application/vnd.databricks.v1+cell": {
     "cellMetadata": {
      "byteLimit": 2048000,
      "rowLimit": 10000
     },
     "inputWidgets": {},
     "nuid": "80cd84f9-1ceb-4cea-b04f-9ebaf738958e",
     "showTitle": false,
     "tableResultSettingsMap": {},
     "title": ""
    }
   },
   "outputs": [],
   "source": [
    "select table_specification, table_clauses, table_select, table_keys, table_sequence_by, table_stored_as;"
   ]
  },
  {
   "cell_type": "code",
   "execution_count": 0,
   "metadata": {
    "application/vnd.databricks.v1+cell": {
     "cellMetadata": {
      "byteLimit": 2048000,
      "rowLimit": 10000
     },
     "inputWidgets": {},
     "nuid": "12c86bb6-489e-4198-b731-3690f08bf3c9",
     "showTitle": false,
     "tableResultSettingsMap": {},
     "title": ""
    }
   },
   "outputs": [],
   "source": [
    "DECLARE OR REPLACE VARIABLE crst_stmnt STRING; \n",
    "\n",
    "SET VARIABLE crst_stmnt = \"CREATE OR REFRESH STREAMING TABLE \" || table_name || \" (\\n\" ||\n",
    "table_specification || \"\\n)\\n\" ||\n",
    "table_clauses || \" \n",
    "AS SELECT \" || table_select || \";\\n\n",
    "APPLY CHANGES INTO \" || table_name || \"\n",
    "FROM \" || table_name || \"_bronze \n",
    "KEYS (\" || table_keys || \")\n",
    "SEQUENCE BY \" || table_sequence_by || \"\n",
    "STORED AS \" || table_stored_as || \";\"\n",
    ";\n",
    "\n",
    "SELECT crst_stmnt;"
   ]
  },
  {
   "cell_type": "code",
   "execution_count": 0,
   "metadata": {
    "application/vnd.databricks.v1+cell": {
     "cellMetadata": {
      "byteLimit": 2048000,
      "rowLimit": 10000
     },
     "inputWidgets": {},
     "nuid": "c1b74a49-3c01-404c-b4b3-bc3d73d120cc",
     "showTitle": false,
     "tableResultSettingsMap": {},
     "title": ""
    }
   },
   "outputs": [],
   "source": [
    "EXECUTE IMMEDIATE crst_stmnt;"
   ]
  }
 ],
 "metadata": {
  "application/vnd.databricks.v1+notebook": {
   "computePreferences": null,
   "dashboards": [],
   "environmentMetadata": {
    "base_environment": "",
    "environment_version": "2"
   },
   "inputWidgetPreferences": null,
   "language": "sql",
   "notebookMetadata": {
    "pythonIndentUnit": 2
   },
   "notebookName": "p01 - Silver",
   "widgets": {
    "catalog_name": {
     "currentValue": "mgiglia",
     "nuid": "686c4243-3296-4894-b9e2-f67c90039c19",
     "typedWidgetInfo": {
      "autoCreated": false,
      "defaultValue": "main",
      "label": "",
      "name": "catalog_name",
      "options": {
       "widgetDisplayType": "Text",
       "validationRegex": null
      },
      "parameterDataType": "String"
     },
     "widgetInfo": {
      "widgetType": "text",
      "defaultValue": "main",
      "label": "",
      "name": "catalog_name",
      "options": {
       "widgetType": "text",
       "autoCreated": false,
       "validationRegex": null
      }
     }
    },
    "full_refresh": {
     "currentValue": "true",
     "nuid": "a71ed6a0-5a15-402b-b2de-d357937ad18e",
     "typedWidgetInfo": {
      "autoCreated": false,
      "defaultValue": "false",
      "label": "",
      "name": "full_refresh",
      "options": {
       "widgetDisplayType": "Dropdown",
       "choices": [
        "true",
        "false"
       ],
       "fixedDomain": true,
       "multiselect": false
      },
      "parameterDataType": "String"
     },
     "widgetInfo": {
      "widgetType": "dropdown",
      "defaultValue": "false",
      "label": "",
      "name": "full_refresh",
      "options": {
       "widgetType": "dropdown",
       "autoCreated": false,
       "choices": [
        "true",
        "false"
       ]
      }
     }
    },
    "schema_name": {
     "currentValue": "synthea",
     "nuid": "f5613750-a1f0-40c7-9b9d-37fc6c7627b0",
     "typedWidgetInfo": {
      "autoCreated": false,
      "defaultValue": "synthea",
      "label": "",
      "name": "schema_name",
      "options": {
       "widgetDisplayType": "Text",
       "validationRegex": null
      },
      "parameterDataType": "String"
     },
     "widgetInfo": {
      "widgetType": "text",
      "defaultValue": "synthea",
      "label": "",
      "name": "schema_name",
      "options": {
       "widgetType": "text",
       "autoCreated": false,
       "validationRegex": null
      }
     }
    },
    "table_name": {
     "currentValue": "encounters",
     "nuid": "6ab7941b-51a9-4b8b-83b6-3563b0ae2a86",
     "typedWidgetInfo": {
      "autoCreated": false,
      "defaultValue": "patients",
      "label": "",
      "name": "table_name",
      "options": {
       "widgetDisplayType": "Dropdown",
       "choices": [
        "patients",
        "encounters",
        "conditions",
        "claims_transactions",
        "medications"
       ],
       "fixedDomain": true,
       "multiselect": false
      },
      "parameterDataType": "String"
     },
     "widgetInfo": {
      "widgetType": "dropdown",
      "defaultValue": "patients",
      "label": "",
      "name": "table_name",
      "options": {
       "widgetType": "dropdown",
       "autoCreated": false,
       "choices": [
        "patients",
        "encounters",
        "conditions",
        "claims_transactions",
        "medications"
       ]
      }
     }
    }
   }
  },
  "language_info": {
   "name": "sql"
  }
 },
 "nbformat": 4,
 "nbformat_minor": 0
}
